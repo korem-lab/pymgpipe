{
 "cells": [
  {
   "attachments": {},
   "cell_type": "markdown",
   "metadata": {},
   "source": [
    "### Building models"
   ]
  },
  {
   "cell_type": "code",
   "execution_count": null,
   "metadata": {},
   "outputs": [],
   "source": [
    "from pymgpipe import *\n",
    "from pkg_resources import resource_filename\n",
    "\n",
    "taxa_directory = resource_filename(\"pymgpipe\", \"resources/miniTaxa/\")\n",
    "\n",
    "# Generating random abundance matrix\n",
    "taxa = [x.split('.xml.gz')[0] for x in os.listdir(taxa_directory)]\n",
    "abundances = pd.DataFrame(np.random.randint(250,750,size=(4, 10)),columns=['sample_0'+str(i) for i in range(1,11)],index=taxa)\n",
    "abundances = abundances.apply(lambda x: x/x.sum(),axis=0)\n",
    "abundances"
   ]
  },
  {
   "cell_type": "code",
   "execution_count": null,
   "metadata": {},
   "outputs": [],
   "source": [
    "# ----- STEP 1: BUILD COMMUNITY MODELS ----\n",
    "build_models(\n",
    "    coverage_file=abundances,\n",
    "    taxa_dir=taxa_directory,\n",
    "    out_dir='out',\n",
    "    diet_fecal_compartments=True,\n",
    "    coupling_constraints=True,\n",
    "    remove_reverse_vars_from_lp=True,\n",
    "    hard_remove=True,\n",
    "    compress=True,\n",
    "    threads=-1,\n",
    "    parallel=True,\n",
    "    solver='gurobi',\n",
    "    cobra_type='.xml',\n",
    "    lp_type='.mps',\n",
    "    compute_metrics=True,\n",
    "    sample_prefix='mc',\n",
    "    force=True,\n",
    "    # diet='test_diet.csv', <-- you can try uncommenting this, however this diet will result in infeasibility\n",
    ")"
   ]
  },
  {
   "cell_type": "code",
   "execution_count": null,
   "metadata": {},
   "outputs": [],
   "source": [
    "# ----- STEP 1.2: BUILD INDIVIDUAL MODELS ----\n",
    "my_model = build(\n",
    "    abundances=abundances,\n",
    "    sample='sample_03',\n",
    "    taxa_directory=taxa_directory,\n",
    "    diet_fecal_compartments=True\n",
    ")\n",
    "add_coupling_constraints(my_model)\n",
    "solve_model(my_model)\n",
    "write_lp_problem(my_model, 'my_model.mps')"
   ]
  },
  {
   "attachments": {},
   "cell_type": "markdown",
   "metadata": {},
   "source": [
    "### Simulating communities"
   ]
  },
  {
   "cell_type": "code",
   "execution_count": null,
   "metadata": {},
   "outputs": [],
   "source": [
    "# ----- STEP 2: COMPUTE NMPCS ----\n",
    "res = compute_nmpcs(\n",
    "    samples='out/problems/',\n",
    "    out_dir='out/',\n",
    "    threshold=0,\n",
    "    fva_type=FVA_TYPE.REGULAR,\n",
    "    force=True,\n",
    "    threads=-1,\n",
    "    objective_percent=100,\n",
    "    solver='gurobi'\n",
    ")\n",
    "res.nmpc"
   ]
  },
  {
   "cell_type": "code",
   "execution_count": null,
   "metadata": {},
   "outputs": [],
   "source": [
    "# ----- STEP 2.2: COMPUTE NMPCS FOR INDIVIDUAL MODELS ----\n",
    "res = compute_nmpcs(\n",
    "    samples=my_model,\n",
    "    write_to_file=False\n",
    ")\n",
    "res.nmpc"
   ]
  },
  {
   "attachments": {},
   "cell_type": "markdown",
   "metadata": {},
   "source": [
    "### Optional- working with optlang models"
   ]
  },
  {
   "cell_type": "code",
   "execution_count": null,
   "metadata": {},
   "outputs": [],
   "source": [
    "from pymgpipe import *\n",
    "\n",
    "# To load a model, you can do either of the following. Either one will return the underlying optlang LP problem\n",
    "# Note, anywhere you see a `model` parameter in a function, you can provide either the optlang object or the path to the file\n",
    "\n",
    "model = load_model('out/models/mc1.xml.gz', solver='cplex') # <-- Note, this is the COBRA model, and thus will not have any modifications you have made to the underlying lp (i.e. coupling constraints, diet, removing reverse variables, etc)\n",
    "\n",
    "# OR\n",
    "\n",
    "model = load_model('out/problems/mc1.mps.gz', solver='gurobi') # <-- This WILL have those modifications. It is recommended to always work with the models in the problems/ folder\n",
    "print(model.objective)"
   ]
  },
  {
   "cell_type": "code",
   "execution_count": null,
   "metadata": {},
   "outputs": [],
   "source": [
    "# Adding diets (remember, depending on the model, some diets will result in model infeasibility)\n",
    "\n",
    "print(get_available_diets())\n",
    "\n",
    "add_diet_to_model(model,'GlutenFreeDiet', force_uptake=False)\n",
    "print(get_diet(model))"
   ]
  },
  {
   "cell_type": "code",
   "execution_count": null,
   "metadata": {},
   "outputs": [],
   "source": [
    "# You can also add a diet directly from a file \n",
    "\n",
    "add_diet_to_model(model, 'test_diet.csv')\n",
    "print(get_diet(model))"
   ]
  },
  {
   "cell_type": "code",
   "execution_count": null,
   "metadata": {},
   "outputs": [],
   "source": [
    "# Removing diets \n",
    "\n",
    "remove_diet(model)\n",
    "print(get_diet(model))"
   ]
  },
  {
   "cell_type": "code",
   "execution_count": null,
   "metadata": {},
   "outputs": [],
   "source": [
    "# Adding coupling constraints\n",
    "\n",
    "add_coupling_constraints(model)"
   ]
  },
  {
   "cell_type": "code",
   "execution_count": null,
   "metadata": {},
   "outputs": [],
   "source": [
    "# Removing coupling constraints \n",
    "\n",
    "remove_coupling_constraints(model)"
   ]
  },
  {
   "cell_type": "code",
   "execution_count": null,
   "metadata": {},
   "outputs": [],
   "source": [
    "# Removing reverse variables (this is recommended if model size is an issue)\n",
    "# Setting hard_remove to TRUE will remove the reverse variables from the model entirely (removing the variables can be time consuming)\n",
    "# Setting hard_remove to FALSE will keep the reverse variables in place, but set their bounds to zero (this is done to save time)\n",
    "\n",
    "remove_reverse_vars(model, hard_remove=True)"
   ]
  },
  {
   "cell_type": "code",
   "execution_count": null,
   "metadata": {},
   "outputs": [],
   "source": [
    "# Fetching reactions of interest \n",
    "\n",
    "exchange_reactions = get_reactions(model, regex='EX_.*[fe]')\n",
    "print(exchange_reactions)\n",
    "\n",
    "smaller_subset = get_reactions(model, reactions=exchange_reactions[:5])\n",
    "print(smaller_subset)"
   ]
  },
  {
   "cell_type": "code",
   "execution_count": null,
   "metadata": {},
   "outputs": [],
   "source": [
    "# Setting objectives (remember, if you haven't removed reverse variables, you will need to make to include them in any objective you set, where NET FLUX = forward - reverse)\n",
    "\n",
    "set_objective(model, obj_expression=np.sum(smaller_subset),direction='min')\n",
    "print(model.objective)\n",
    "\n",
    "solve_model(model)"
   ]
  },
  {
   "cell_type": "code",
   "execution_count": null,
   "metadata": {},
   "outputs": [],
   "source": [
    "# Running FVA\n",
    "\n",
    "add_coupling_constraints(model)\n",
    "set_objective(model, 'communityBiomass', 'max')\n",
    "\n",
    "res = fva(\n",
    "    model,\n",
    "    reactions = exchange_reactions,\n",
    "    threads = -1,\n",
    "    fva_type=FVA_TYPE.REGULAR,\n",
    "    objective_percent=100\n",
    ")\n",
    "res"
   ]
  },
  {
   "cell_type": "code",
   "execution_count": null,
   "metadata": {},
   "outputs": [],
   "source": [
    "# If you have VFFVA installed, you can run FVA like so\n",
    "# Note, VFFVA requires the `model` parameter to be an .mps file, so make sure that your desired objective is set before running this function\n",
    "\n",
    "vffva_config.path = '/Users/yolimeydan/Documents/Columbia/VFFVA/'\n",
    "res = fva(\n",
    "    model='out/problems/mc1.mps.gz',\n",
    "    solver='cplex',\n",
    "    reactions = exchange_reactions,\n",
    "    threads = -1,\n",
    "    fva_type=FVA_TYPE.FAST,\n",
    "    objective_percent=100\n",
    ")\n",
    "res"
   ]
  }
 ],
 "metadata": {
  "kernelspec": {
   "display_name": "pymgpipe",
   "language": "python",
   "name": "python3"
  },
  "language_info": {
   "codemirror_mode": {
    "name": "ipython",
    "version": 3
   },
   "file_extension": ".py",
   "mimetype": "text/x-python",
   "name": "python",
   "nbconvert_exporter": "python",
   "pygments_lexer": "ipython3",
   "version": "3.10.9"
  },
  "vscode": {
   "interpreter": {
    "hash": "7b1a2a6941a445ff49892b54b12ef79b5134f773bb4c2f4bfc5706f7d311a07a"
   }
  }
 },
 "nbformat": 4,
 "nbformat_minor": 2
}
