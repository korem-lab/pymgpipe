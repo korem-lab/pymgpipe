{
 "cells": [
  {
   "cell_type": "markdown",
   "metadata": {},
   "source": [
    "### Building models"
   ]
  },
  {
   "cell_type": "code",
   "execution_count": 1,
   "metadata": {},
   "outputs": [
    {
     "name": "stdout",
     "output_type": "stream",
     "text": [
      "Found coverage file with 5 samples and 6 unique taxa\n",
      "Building 5 models...\n",
      "\n",
      "----------------Parameters----------------\n",
      "Diet/fecal compartments- TRUE\n",
      "Coupling constraints- TRUE\n",
      "Parallel- TRUE\n",
      "Threads- 5\n",
      "Solver- GUROBI\n",
      "LP type- MPS\n",
      "COBRA type- XML\n",
      "compress- TRUE\n",
      "Output directory- OUT/\n"
     ]
    },
    {
     "name": "stderr",
     "output_type": "stream",
     "text": [
      "100%|██████████| 5/5 [00:28<00:00,  5.64s/it]\n"
     ]
    },
    {
     "name": "stdout",
     "output_type": "stream",
     "text": [
      "-------------------------------------------------------\n",
      "Finished building 5 models and associated LP problems!\n"
     ]
    }
   ],
   "source": [
    "from pymgpipe import *\n",
    "\n",
    "build_models(\n",
    "    coverage_file='normCoverage.csv',\n",
    "    taxa_dir='taxaModels',\n",
    "    out_dir='out',\n",
    "    diet_fecal_compartments=True,\n",
    "    coupling_constraints=True,\n",
    "    compress=True,\n",
    "    threads=-1,\n",
    "    parallel=True,\n",
    "    solver='gurobi',\n",
    "    write_lp=True,\n",
    "    cobra_type='.xml',\n",
    "    lp_type='.mps',\n",
    "    diet='personalized_diet.csv'\n",
    ")"
   ]
  },
  {
   "cell_type": "markdown",
   "metadata": {},
   "source": [
    "### Loading models"
   ]
  },
  {
   "cell_type": "code",
   "execution_count": null,
   "metadata": {},
   "outputs": [],
   "source": [
    "from pymgpipe import *\n",
    "\n",
    "# Loading a cobra model\n",
    "cobra_model = load_cobra_model('out/models/mc1.xml.gz')\n",
    "print(type(cobra_model))\n",
    "\n",
    "# Loading an optlang model\n",
    "optlang_model = load_model('out/problems/mc1.mps.7z',solver='gurobi') \n",
    "print(type(optlang_model))\n",
    "# OR \n",
    "optlang_model = load_model('out/models/mc1.xml.gz')\n",
    "print(type(optlang_model))"
   ]
  },
  {
   "cell_type": "markdown",
   "metadata": {},
   "source": [
    "### Solving models"
   ]
  },
  {
   "cell_type": "code",
   "execution_count": null,
   "metadata": {},
   "outputs": [],
   "source": [
    "from pymgpipe import solve_model, load_model\n",
    "\n",
    "sol = solve_model(model='out/problems/mc1.mps.7z',solver='gurobi')\n",
    "\n",
    "# OR \n",
    "\n",
    "m = load_model('out/problems/mc1.mps.7z', solver='gurobi')\n",
    "target_reactions = get_reactions(m,regex='Diet_EX_.*')\n",
    "sol = solve_model(model=m,reactions=target_reactions)\n",
    "\n",
    "# OR \n",
    "\n",
    "sol = solve_model(model='out/models/mc1.xml.gz',solver='gurobi')"
   ]
  },
  {
   "cell_type": "markdown",
   "metadata": {},
   "source": [
    "### Computin NMPCs"
   ]
  },
  {
   "cell_type": "code",
   "execution_count": null,
   "metadata": {},
   "outputs": [],
   "source": [
    "from pymgpipe import compute_nmpcs\n",
    "\n",
    "r = compute_nmpcs(samples='out/problems/',out_dir='out',diet_fecal_compartments=True,force=True)\n",
    "r.nmpc"
   ]
  },
  {
   "cell_type": "markdown",
   "metadata": {},
   "source": [
    "### Adding Diets"
   ]
  },
  {
   "cell_type": "code",
   "execution_count": null,
   "metadata": {},
   "outputs": [],
   "source": [
    "from pymgpipe import *\n",
    "\n",
    "cobra_model = load_cobra_model('out/models/mc1.xml.gz')\n",
    "add_diet_to_model(cobra_model,'HighFatLowCarbDiet')\n",
    "compute_nmpcs(cobra_model)"
   ]
  }
 ],
 "metadata": {
  "kernelspec": {
   "display_name": "pymgpipe",
   "language": "python",
   "name": "python3"
  },
  "language_info": {
   "codemirror_mode": {
    "name": "ipython",
    "version": 3
   },
   "file_extension": ".py",
   "mimetype": "text/x-python",
   "name": "python",
   "nbconvert_exporter": "python",
   "pygments_lexer": "ipython3",
   "version": "3.10.9"
  },
  "vscode": {
   "interpreter": {
    "hash": "7b1a2a6941a445ff49892b54b12ef79b5134f773bb4c2f4bfc5706f7d311a07a"
   }
  }
 },
 "nbformat": 4,
 "nbformat_minor": 2
}
