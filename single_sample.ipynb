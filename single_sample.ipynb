{
 "cells": [
  {
   "cell_type": "code",
   "execution_count": 4,
   "metadata": {},
   "outputs": [
    {
     "name": "stdout",
     "output_type": "stream",
     "text": [
      "Loading from existing file...\n",
      "Read MPS format model from file pymgpipe/samples/single_sample_model.mps\n",
      "Reading time = 0.11 seconds\n",
      ": 7459 rows, 15873 columns, 63167 nonzeros\n"
     ]
    }
   ],
   "source": [
    "from pymgpipe.single_sample import SingleSampleModel\n",
    "\n",
    "m = SingleSampleModel(problem='pymgpipe/samples/single_sample_model.mps',solver='gurobi')"
   ]
  },
  {
   "cell_type": "code",
   "execution_count": 5,
   "metadata": {},
   "outputs": [
    {
     "data": {
      "text/html": [
       "<div>\n",
       "<style scoped>\n",
       "    .dataframe tbody tr th:only-of-type {\n",
       "        vertical-align: middle;\n",
       "    }\n",
       "\n",
       "    .dataframe tbody tr th {\n",
       "        vertical-align: top;\n",
       "    }\n",
       "\n",
       "    .dataframe thead th {\n",
       "        text-align: right;\n",
       "    }\n",
       "</style>\n",
       "<table border=\"1\" class=\"dataframe\">\n",
       "  <thead>\n",
       "    <tr style=\"text-align: right;\">\n",
       "      <th></th>\n",
       "      <th>single_sample_model</th>\n",
       "    </tr>\n",
       "  </thead>\n",
       "  <tbody>\n",
       "    <tr>\n",
       "      <th>EX_12dgr180_m</th>\n",
       "      <td>-0.000211</td>\n",
       "    </tr>\n",
       "    <tr>\n",
       "      <th>EX_1hibup_S_m</th>\n",
       "      <td>0.000000</td>\n",
       "    </tr>\n",
       "    <tr>\n",
       "      <th>EX_1hibupglu_S_m</th>\n",
       "      <td>0.000000</td>\n",
       "    </tr>\n",
       "    <tr>\n",
       "      <th>EX_1hmdgluc_m</th>\n",
       "      <td>0.000000</td>\n",
       "    </tr>\n",
       "    <tr>\n",
       "      <th>EX_1ohmdz_m</th>\n",
       "      <td>0.000000</td>\n",
       "    </tr>\n",
       "    <tr>\n",
       "      <th>...</th>\n",
       "      <td>...</td>\n",
       "    </tr>\n",
       "    <tr>\n",
       "      <th>EX_ura_m</th>\n",
       "      <td>-0.079787</td>\n",
       "    </tr>\n",
       "    <tr>\n",
       "      <th>EX_urea_m</th>\n",
       "      <td>0.000000</td>\n",
       "    </tr>\n",
       "    <tr>\n",
       "      <th>EX_val_L_m</th>\n",
       "      <td>-0.352593</td>\n",
       "    </tr>\n",
       "    <tr>\n",
       "      <th>EX_xan_m</th>\n",
       "      <td>2.619218</td>\n",
       "    </tr>\n",
       "    <tr>\n",
       "      <th>EX_zn2_m</th>\n",
       "      <td>-0.003384</td>\n",
       "    </tr>\n",
       "  </tbody>\n",
       "</table>\n",
       "<p>537 rows × 1 columns</p>\n",
       "</div>"
      ],
      "text/plain": [
       "                  single_sample_model\n",
       "EX_12dgr180_m               -0.000211\n",
       "EX_1hibup_S_m                0.000000\n",
       "EX_1hibupglu_S_m             0.000000\n",
       "EX_1hmdgluc_m                0.000000\n",
       "EX_1ohmdz_m                  0.000000\n",
       "...                               ...\n",
       "EX_ura_m                    -0.079787\n",
       "EX_urea_m                    0.000000\n",
       "EX_val_L_m                  -0.352593\n",
       "EX_xan_m                     2.619218\n",
       "EX_zn2_m                    -0.003384\n",
       "\n",
       "[537 rows x 1 columns]"
      ]
     },
     "execution_count": 5,
     "metadata": {},
     "output_type": "execute_result"
    }
   ],
   "source": [
    "m.solve()"
   ]
  }
 ],
 "metadata": {
  "kernelspec": {
   "display_name": "Python 3.8.10 64-bit ('3.8.10')",
   "language": "python",
   "name": "python3"
  },
  "language_info": {
   "codemirror_mode": {
    "name": "ipython",
    "version": 3
   },
   "file_extension": ".py",
   "mimetype": "text/x-python",
   "name": "python",
   "nbconvert_exporter": "python",
   "pygments_lexer": "ipython3",
   "version": "3.8.10"
  },
  "orig_nbformat": 4,
  "vscode": {
   "interpreter": {
    "hash": "ce0f05a52b05dddef91270243e4a7e8f56cb436ce422ef6f4f5d24509d3ae4cc"
   }
  }
 },
 "nbformat": 4,
 "nbformat_minor": 2
}
