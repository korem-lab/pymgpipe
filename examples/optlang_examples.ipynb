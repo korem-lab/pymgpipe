{
 "cells": [
  {
   "cell_type": "markdown",
   "metadata": {},
   "source": [
    "#### Loading model"
   ]
  },
  {
   "cell_type": "code",
   "execution_count": null,
   "metadata": {},
   "outputs": [],
   "source": [
    "from pymgpipe import *\n",
    "\n",
    "# run through workflow.ipynb first if this file doesn't exist\n",
    "model = load_model('out/problems/mc1.mps.7z')"
   ]
  },
  {
   "cell_type": "markdown",
   "metadata": {},
   "source": [
    "#### Fetching reactions\n",
    "\n",
    "`get_reactions` returns a list of `optlang.Variable` objects, that all have a name (id), lower bound, and upper bound\n",
    "\n",
    "You can fetch reactions either by passing in an explicit list of reaction IDs using the `reactions` param, or by using a regex match using the `regex` param.\n",
    "\n",
    "`get_reactions(model)` without any parameters will get all exchange reactions by default. \n",
    "\n",
    "Remember- this will only get the **forward** reaction"
   ]
  },
  {
   "cell_type": "code",
   "execution_count": null,
   "metadata": {},
   "outputs": [],
   "source": [
    "# Getting ALL reactions\n",
    "all_reactions = get_reactions(model, regex='.*')\n",
    "\n",
    "# Getting all reactions with the word biomass in ID\n",
    "biomass_reactions = get_reactions(model,regex='.*biomass.*')\n",
    "\n",
    "# Getting ALL exchange reactions\n",
    "exchange_reactions = get_reactions(model, regex = Constants.EX_REGEX)\n",
    "\n",
    "# Getting specific list of reactions\n",
    "specific_reaction = get_reactions(model, reactions=['EX_tyr_L[fe]','EX_ala_L[fe]','Diet_EX_glu_L[d]'])\n",
    "\n",
    "for r in specific_reaction:\n",
    "    print(r.name, r.lb, r.ub)\n",
    "\n",
    "# You can also get reactions by passing in a list of optlang.Variable's \n",
    "first_five_reactions = get_reactions(model, reactions=model.variables[:5])\n",
    "\n",
    "# You can also get individual reactions like this\n",
    "ind = model.variables['EX_tyr_L[fe]'] # by name\n",
    "another_ind = model.variables[100] # by index\n",
    "\n",
    "# You can check to see if a certain variable exists within the model like so\n",
    "exists = 'EX_tyr_L[fe]' in model.variables # <-- TRUE\n",
    "not_exists = 'bad_reaction' in model.variables  # <-- FALSE"
   ]
  },
  {
   "cell_type": "markdown",
   "metadata": {},
   "source": [
    "#### Getting reverse reaction\n",
    "\n",
    "If you want to calculate **NET flux** for a reaction, you will need to get the **reverse** reactions as well"
   ]
  },
  {
   "cell_type": "code",
   "execution_count": null,
   "metadata": {},
   "outputs": [],
   "source": [
    "exchange_reactions = get_reactions(model, regex = Constants.EX_REGEX)\n",
    "for e in exchange_reactions:\n",
    "    reverse_var = get_reverse_var(model, e) # this returns the actual reverse optlang.Variable\n",
    "    reverse_id = get_reverse_id(e.name) # if you just want the id of the reverse reaction, you can do it like so\n",
    "    print(e.name,reverse_id)"
   ]
  },
  {
   "cell_type": "markdown",
   "metadata": {},
   "source": [
    "Now, a quick way to calculate the NET value for all exchanges would be done like so-\n",
    "\n",
    "(I will add a function soon where you can just provide a reaction name and it returns the net flux expression)"
   ]
  },
  {
   "cell_type": "code",
   "execution_count": 7,
   "metadata": {},
   "outputs": [],
   "source": [
    "net_exchanges = [forward - get_reverse_var(model,forward) for forward in exchange_reactions]\n",
    "\n",
    "# or alternatively, like this (produces the same results)\n",
    "net_exchanges = [forward - model.variables[get_reverse_id(forward.name)] for forward in exchange_reactions]"
   ]
  },
  {
   "cell_type": "markdown",
   "metadata": {},
   "source": [
    "### Constraining reactions\n",
    "\n",
    "To constrain reactions you essentially are just setting the lower and upper bound, like so"
   ]
  },
  {
   "cell_type": "code",
   "execution_count": null,
   "metadata": {},
   "outputs": [],
   "source": [
    "tyr_v = model.variables['EX_tyr_L[fe]']\n",
    "print('Before-',(tyr_v.lb,tyr_v.ub))\n",
    "\n",
    "# lets say you want to fix tyramine to equal 500\n",
    "tyr_v.set_bounds(500,500)\n",
    "print('After-',(tyr_v.lb,tyr_v.ub))"
   ]
  },
  {
   "cell_type": "markdown",
   "metadata": {},
   "source": [
    "BUT! Notice in the example above, we are only fixing the **forward** reaction\n",
    "\n",
    "In order to easily fix the **net** value for a certain reaction/metabolite, I made a function that takes in a map of `{id: value}`\n",
    "\n",
    "Any reactions in the map that don't exist within the model will be ignored"
   ]
  },
  {
   "cell_type": "code",
   "execution_count": null,
   "metadata": {},
   "outputs": [],
   "source": [
    "reactions_to_fix = {\n",
    "    'Diet_EX_tyr_L[d]': 25,\n",
    "    'Diet_EX_ala_L[d]': 50,\n",
    "    'Diet_EX_glu_L[d]': 100,\n",
    "    'bad_rxn': 50,\n",
    "}\n",
    "\n",
    "# try changing the threshold to see how the output changes\n",
    "constrain_reactions(model,flux_map=reactions_to_fix,threshold=0.0)\n",
    "\n",
    "for m in reactions_to_fix:\n",
    "    if m in model.variables: # try removing this IF statement and see what happens\n",
    "        v = model.variables[m]\n",
    "        print(v.name, v.lb, v.ub)"
   ]
  },
  {
   "cell_type": "markdown",
   "metadata": {},
   "source": [
    "### Setting objectives and solving\n",
    "\n",
    "Let's say you want to optimize for sum of all exchanges-"
   ]
  },
  {
   "cell_type": "code",
   "execution_count": null,
   "metadata": {},
   "outputs": [],
   "source": [
    "model = load_model('out/problems/mc1.mps.7z')\n",
    "\n",
    "exchange_reactions = get_reactions(model,regex='EX_.*[fe]')\n",
    "net_exchanges = [f - get_reverse_var(model, f) for f in exchange_reactions]\n",
    "\n",
    "objective_expr = np.sum(net_exchanges)\n",
    "objective_expr"
   ]
  },
  {
   "cell_type": "markdown",
   "metadata": {},
   "source": [
    "Now you set the objective and solve!\n",
    "\n",
    "`solve_model` will return the NET flux solution for all reactions, so no need to worry about that"
   ]
  },
  {
   "cell_type": "code",
   "execution_count": null,
   "metadata": {},
   "outputs": [],
   "source": [
    "set_objective(model, objective_expr, direction='max')\n",
    "sol = solve_model(model, ex_only=True) # if you want solution for only exchanges\n",
    "sol = solve_model(model, ex_only=False) # if you want solution for ALL reactions\n",
    "sol = solve_model(model, reactions=['Diet_EX_glu_L[d]','Diet_EX_ala_L[d]','communityBiomass']) # if you want solution for only a subset of reactions\n",
    "sol"
   ]
  },
  {
   "cell_type": "markdown",
   "metadata": {},
   "source": [
    "The solution is a dataframe, so you can filter just like you would with any pandas dataframe"
   ]
  },
  {
   "cell_type": "code",
   "execution_count": 28,
   "metadata": {},
   "outputs": [
    {
     "data": {
      "text/html": [
       "<div>\n",
       "<style scoped>\n",
       "    .dataframe tbody tr th:only-of-type {\n",
       "        vertical-align: middle;\n",
       "    }\n",
       "\n",
       "    .dataframe tbody tr th {\n",
       "        vertical-align: top;\n",
       "    }\n",
       "\n",
       "    .dataframe thead th {\n",
       "        text-align: right;\n",
       "    }\n",
       "</style>\n",
       "<table border=\"1\" class=\"dataframe\">\n",
       "  <thead>\n",
       "    <tr style=\"text-align: right;\">\n",
       "      <th></th>\n",
       "      <th>mc1</th>\n",
       "    </tr>\n",
       "  </thead>\n",
       "  <tbody>\n",
       "    <tr>\n",
       "      <th>communityBiomass</th>\n",
       "      <td>1.0</td>\n",
       "    </tr>\n",
       "  </tbody>\n",
       "</table>\n",
       "</div>"
      ],
      "text/plain": [
       "                  mc1\n",
       "communityBiomass  1.0"
      ]
     },
     "execution_count": 28,
     "metadata": {},
     "output_type": "execute_result"
    }
   ],
   "source": [
    "sol.loc[sol.index.str.contains('communityBiomass')] # sums up to 1 like it's supposed to!"
   ]
  },
  {
   "cell_type": "markdown",
   "metadata": {},
   "source": [
    "#### Running FVA"
   ]
  },
  {
   "cell_type": "code",
   "execution_count": null,
   "metadata": {},
   "outputs": [],
   "source": [
    "# This is basically how you would run it, I'd check the method signature to see other params and default values\n",
    "sol = regularFVA(\n",
    "    model = model,\n",
    "    reactions = get_reactions(model,regex='EX_.*[fe]')[:10],\n",
    "    parallel = True,\n",
    "    threads = 5\n",
    ")\n",
    "sol"
   ]
  }
 ],
 "metadata": {
  "kernelspec": {
   "display_name": "Python 3.8.10 64-bit ('3.8.10')",
   "language": "python",
   "name": "python3"
  },
  "language_info": {
   "codemirror_mode": {
    "name": "ipython",
    "version": 3
   },
   "file_extension": ".py",
   "mimetype": "text/x-python",
   "name": "python",
   "nbconvert_exporter": "python",
   "pygments_lexer": "ipython3",
   "version": "3.8.10"
  },
  "orig_nbformat": 4,
  "vscode": {
   "interpreter": {
    "hash": "ce0f05a52b05dddef91270243e4a7e8f56cb436ce422ef6f4f5d24509d3ae4cc"
   }
  }
 },
 "nbformat": 4,
 "nbformat_minor": 2
}
