{
 "cells": [
  {
   "cell_type": "markdown",
   "metadata": {},
   "source": [
    "### Building models"
   ]
  },
  {
   "cell_type": "code",
   "execution_count": null,
   "metadata": {},
   "outputs": [],
   "source": [
    "from pymgpipe import *\n",
    "\n",
    "build_models(\n",
    "    coverage_file='normCoverage.csv',\n",
    "    taxa_dir='panModels',\n",
    "    out_dir='out',\n",
    "    diet_fecal_compartments=True,\n",
    "    coupling_constraints=True,\n",
    "    compress=True,\n",
    "    threads=-1,\n",
    "    parallel=True,\n",
    "    solver='gurobi',\n",
    "    write_lp=True,\n",
    "    cobra_type='.xml',\n",
    "    lp_type='.mps',\n",
    "    diet='personalized_diet.csv'\n",
    ")"
   ]
  },
  {
   "cell_type": "markdown",
   "metadata": {},
   "source": [
    "### Loading models"
   ]
  },
  {
   "cell_type": "code",
   "execution_count": null,
   "metadata": {},
   "outputs": [],
   "source": [
    "from pymgpipe import *\n",
    "\n",
    "# Loading a cobra model\n",
    "cobra_model = load_cobra_model('out/models/mc1.xml.gz')\n",
    "print(type(cobra_model))\n",
    "\n",
    "# Loading an optlang model\n",
    "optlang_model = load_model('out/problems/mc1.mps.7z',solver='gurobi') \n",
    "print(type(optlang_model))\n",
    "# OR \n",
    "optlang_model = load_model('out/models/mc1.xml.gz')\n",
    "print(type(optlang_model))"
   ]
  },
  {
   "cell_type": "markdown",
   "metadata": {},
   "source": [
    "### Solving models"
   ]
  },
  {
   "cell_type": "code",
   "execution_count": null,
   "metadata": {},
   "outputs": [],
   "source": [
    "from pymgpipe import solve_model, load_model\n",
    "\n",
    "sol = solve_model(model='out/problems/mc1.mps.7z',solver='gurobi')\n",
    "\n",
    "# OR \n",
    "\n",
    "m = load_model('out/problems/mc1.mps.7z', solver='gurobi')\n",
    "target_reactions = get_reactions(m,regex='Diet_EX_.*')\n",
    "sol = solve_model(model=m,reactions=target_reactions)\n",
    "\n",
    "# OR \n",
    "\n",
    "sol = solve_model(model='out/models/mc1.xml.gz',solver='gurobi')"
   ]
  },
  {
   "cell_type": "markdown",
   "metadata": {},
   "source": [
    "### Computin NMPCs"
   ]
  },
  {
   "cell_type": "code",
   "execution_count": null,
   "metadata": {},
   "outputs": [],
   "source": [
    "from pymgpipe import compute_nmpcs\n",
    "\n",
    "r = compute_nmpcs(samples='out/problems/',out_file='out/nmpcs.csv',diet_fecal_compartments=True,force=True)\n",
    "r"
   ]
  },
  {
   "cell_type": "markdown",
   "metadata": {},
   "source": [
    "### Adding Diets"
   ]
  },
  {
   "cell_type": "code",
   "execution_count": null,
   "metadata": {},
   "outputs": [],
   "source": [
    "from pymgpipe import *\n",
    "\n",
    "cobra_model = load_cobra_model('out/models/mc1.xml.gz')\n",
    "add_diet_to_model(cobra_model,'HighProteinDiet')\n",
    "compute_nmpcs(cobra_model)"
   ]
  }
 ],
 "metadata": {
  "kernelspec": {
   "display_name": "Python 3.8.10 64-bit ('3.8.10')",
   "language": "python",
   "name": "python3"
  },
  "language_info": {
   "codemirror_mode": {
    "name": "ipython",
    "version": 3
   },
   "file_extension": ".py",
   "mimetype": "text/x-python",
   "name": "python",
   "nbconvert_exporter": "python",
   "pygments_lexer": "ipython3",
   "version": "3.8.10"
  },
  "orig_nbformat": 4,
  "vscode": {
   "interpreter": {
    "hash": "ce0f05a52b05dddef91270243e4a7e8f56cb436ce422ef6f4f5d24509d3ae4cc"
   }
  }
 },
 "nbformat": 4,
 "nbformat_minor": 2
}
