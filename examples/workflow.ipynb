{
 "cells": [
  {
   "cell_type": "markdown",
   "metadata": {},
   "source": [
    "### Building models"
   ]
  },
  {
   "cell_type": "code",
   "execution_count": null,
   "metadata": {},
   "outputs": [],
   "source": [
    "from pymgpipe import build_models\n",
    "\n",
    "build_models(\n",
    "    coverage_file='normCoverage.csv',\n",
    "    taxa_dir='panModels',\n",
    "    solver='gurobi'\n",
    ")"
   ]
  },
  {
   "cell_type": "markdown",
   "metadata": {},
   "source": [
    "### Solving models"
   ]
  },
  {
   "cell_type": "code",
   "execution_count": null,
   "metadata": {},
   "outputs": [],
   "source": [
    "from pymgpipe import solve_model, load_model\n",
    "\n",
    "sol = solve_model(path='problems/mc1.mps',solver='gurobi')\n",
    "sol\n",
    "\n",
    "# OR \n",
    "\n",
    "m = load_model(path='problems/mc1.mps', solver='gurobi')\n",
    "sol = solve_model(model=m)\n",
    "sol"
   ]
  },
  {
   "cell_type": "markdown",
   "metadata": {},
   "source": [
    "### Performing FVA"
   ]
  },
  {
   "cell_type": "code",
   "execution_count": null,
   "metadata": {},
   "outputs": [],
   "source": [
    "from pymgpipe import regularFVA\n",
    "\n",
    "fva_sol = regularFVA(path='problems/mc1.mps',solver='gurobi', ex_only=True, threads=-1)\n",
    "fva_sol"
   ]
  }
 ],
 "metadata": {
  "kernelspec": {
   "display_name": "Python 3.8.10 64-bit ('3.8.10')",
   "language": "python",
   "name": "python3"
  },
  "language_info": {
   "codemirror_mode": {
    "name": "ipython",
    "version": 3
   },
   "file_extension": ".py",
   "mimetype": "text/x-python",
   "name": "python",
   "nbconvert_exporter": "python",
   "pygments_lexer": "ipython3",
   "version": "3.8.10"
  },
  "orig_nbformat": 4,
  "vscode": {
   "interpreter": {
    "hash": "ce0f05a52b05dddef91270243e4a7e8f56cb436ce422ef6f4f5d24509d3ae4cc"
   }
  }
 },
 "nbformat": 4,
 "nbformat_minor": 2
}
