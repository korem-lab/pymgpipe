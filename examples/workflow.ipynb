{
 "cells": [
  {
   "cell_type": "markdown",
   "metadata": {},
   "source": [
    "### Building models"
   ]
  },
  {
   "cell_type": "code",
   "execution_count": 23,
   "metadata": {},
   "outputs": [],
   "source": [
    "from pymgpipe import *\n",
    "\n",
    "# If you want to generate a new random normCoverage file, run the following code-\n",
    "#\n",
    "# taxa = [x.split('.xml.gz')[0] for x in os.listdir('taxaModels')]\n",
    "# df = pd.DataFrame(np.random.randint(0,1000,size=(15, 10)),columns=['s'+str(i) for i in range(1,11)],index=taxa)\n",
    "# rand_zero_one_mask = np.random.randint(2, size=df.shape)\n",
    "# df = df.where(rand_zero_one_mask==0, 0).apply(lambda x: x/x.sum(),axis=0)\n",
    "# df.to_csv('normCoverage.csv')\n",
    "\n",
    "build_models(\n",
    "    coverage_file='normCoverage.csv',\n",
    "    taxa_dir='taxaModels',\n",
    "    out_dir='out',\n",
    "    diet_fecal_compartments=True,\n",
    "    coupling_constraints=True,\n",
    "    remove_reverse_vars_from_lp=True,\n",
    "    hard_remove=True,\n",
    "    compress=True,\n",
    "    threads=-1,\n",
    "    parallel=True,\n",
    "    solver='gurobi',\n",
    "    cobra_type='.xml',\n",
    "    lp_type='.mps',\n",
    "    diet='personalized_diet.csv',\n",
    "    compute_metrics=True\n",
    ")"
   ]
  },
  {
   "cell_type": "markdown",
   "metadata": {},
   "source": [
    "### Loading models"
   ]
  },
  {
   "cell_type": "code",
   "execution_count": null,
   "metadata": {},
   "outputs": [],
   "source": [
    "from pymgpipe import *\n",
    "\n",
    "# Loading a cobra model\n",
    "cobra_model = load_cobra_model('out/models/mc1.xml.gz')\n",
    "print(type(cobra_model))\n",
    "\n",
    "# Loading an optlang model\n",
    "optlang_model = load_model('out/problems/mc1.mps.7z',solver='gurobi') \n",
    "print(type(optlang_model))\n",
    "# OR \n",
    "optlang_model = load_model('out/models/mc1.xml.gz')\n",
    "print(type(optlang_model))"
   ]
  },
  {
   "cell_type": "markdown",
   "metadata": {},
   "source": [
    "### Solving models"
   ]
  },
  {
   "cell_type": "code",
   "execution_count": null,
   "metadata": {},
   "outputs": [],
   "source": [
    "from pymgpipe import solve_model, load_model\n",
    "\n",
    "sol = solve_model(model='out/problems/mc1.mps.7z',solver='gurobi')\n",
    "\n",
    "# OR \n",
    "\n",
    "m = load_model('out/problems/mc1.mps.7z', solver='gurobi')\n",
    "target_reactions = get_reactions(m,regex='Diet_EX_.*')\n",
    "sol = solve_model(model=m,reactions=target_reactions)\n",
    "\n",
    "# OR \n",
    "\n",
    "sol = solve_model(model='out/models/mc1.xml.gz',solver='gurobi')"
   ]
  },
  {
   "cell_type": "markdown",
   "metadata": {},
   "source": [
    "### Computin NMPCs"
   ]
  },
  {
   "cell_type": "code",
   "execution_count": null,
   "metadata": {},
   "outputs": [],
   "source": [
    "from pymgpipe import compute_nmpcs\n",
    "\n",
    "r = compute_nmpcs(samples='out/problems/',fva_type='regular', write_to_file=False,diet_fecal_compartments=True,force=True, threads=-1)\n",
    "r.nmpc"
   ]
  },
  {
   "cell_type": "markdown",
   "metadata": {},
   "source": [
    "### Adding Diets"
   ]
  },
  {
   "cell_type": "code",
   "execution_count": null,
   "metadata": {},
   "outputs": [],
   "source": [
    "from pymgpipe import *\n",
    "\n",
    "model = load_model('out/problems/mc1.mps.gz')\n",
    "add_diet_to_model(model,'HighFatLowCarbDiet')\n",
    "compute_nmpcs(samples=model,write_to_file=False).nmpc"
   ]
  }
 ],
 "metadata": {
  "kernelspec": {
   "display_name": "pymgpipe",
   "language": "python",
   "name": "python3"
  },
  "language_info": {
   "codemirror_mode": {
    "name": "ipython",
    "version": 3
   },
   "file_extension": ".py",
   "mimetype": "text/x-python",
   "name": "python",
   "nbconvert_exporter": "python",
   "pygments_lexer": "ipython3",
   "version": "3.10.9"
  },
  "vscode": {
   "interpreter": {
    "hash": "7b1a2a6941a445ff49892b54b12ef79b5134f773bb4c2f4bfc5706f7d311a07a"
   }
  }
 },
 "nbformat": 4,
 "nbformat_minor": 2
}
