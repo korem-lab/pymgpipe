{
 "cells": [
  {
   "cell_type": "markdown",
   "metadata": {},
   "source": [
    "### Building models"
   ]
  },
  {
   "cell_type": "code",
   "execution_count": null,
   "metadata": {},
   "outputs": [],
   "source": [
    "from pymgpipe import *\n",
    "\n",
    "build_models(\n",
    "    coverage_file='normCoverage.csv',\n",
    "    taxa_dir='panModels',\n",
    "    out_dir='out',\n",
    "    diet_fecal_compartments=True,\n",
    "    coupling_constraints=True,\n",
    "    compress=True,\n",
    "    threads=-1,\n",
    "    parallel=True,\n",
    "    solver='gurobi',\n",
    "    write_lp=True,\n",
    "    cobra_type='.xml',\n",
    "    lp_type='.mps',\n",
    "    diet='personalized_diet.csv'\n",
    ")"
   ]
  },
  {
   "cell_type": "markdown",
   "metadata": {},
   "source": [
    "### Loading models"
   ]
  },
  {
   "cell_type": "code",
   "execution_count": null,
   "metadata": {},
   "outputs": [],
   "source": [
    "from pymgpipe import *\n",
    "\n",
    "# Loading a cobra model\n",
    "cobra_model = load_cobra_model('out/models/mc1.xml.gz')\n",
    "print(type(cobra_model))\n",
    "\n",
    "# Loading an optlang model\n",
    "optlang_model = load_model('out/problems/mc1.mps.7z',solver='gurobi') \n",
    "print(type(optlang_model))\n",
    "# OR \n",
    "optlang_model = load_model('out/models/mc1.xml.gz')\n",
    "print(type(optlang_model))"
   ]
  },
  {
   "cell_type": "markdown",
   "metadata": {},
   "source": [
    "### Solving models"
   ]
  },
  {
   "cell_type": "code",
   "execution_count": null,
   "metadata": {},
   "outputs": [],
   "source": [
    "from pymgpipe import solve_model, load_model\n",
    "\n",
    "sol = solve_model(model='out/problems/mc1.mps.7z',solver='gurobi')\n",
    "\n",
    "# OR \n",
    "\n",
    "m = load_model('out/problems/mc1.mps.7z', solver='gurobi')\n",
    "target_reactions = get_reactions(m,regex='Diet_EX_.*')\n",
    "sol = solve_model(model=m,reactions=target_reactions)\n",
    "\n",
    "# OR \n",
    "\n",
    "sol = solve_model(model='out/models/mc1.xml.gz',solver='gurobi')"
   ]
  },
  {
   "cell_type": "markdown",
   "metadata": {},
   "source": [
    "### Computin NMPCs"
   ]
  },
  {
   "cell_type": "code",
   "execution_count": null,
   "metadata": {},
   "outputs": [],
   "source": [
    "from pymgpipe import compute_nmpcs\n",
    "\n",
    "r = compute_nmpcs(samples='out/problems/',out_file='out/nmpcs.csv',diet_fecal_compartments=True,force=True)\n",
    "r"
   ]
  },
  {
   "cell_type": "markdown",
   "metadata": {},
   "source": [
    "### Adding Diets"
   ]
  },
  {
   "cell_type": "code",
   "execution_count": 5,
   "metadata": {},
   "outputs": [
    {
     "data": {
      "text/html": [
       "<pre style=\"white-space:pre;overflow-x:auto;line-height:normal;font-family:Menlo,'DejaVu Sans Mono',consolas,'Courier New',monospace\"><span style=\"color: #7fbfbf; text-decoration-color: #7fbfbf\">[13:17:14] </span><span style=\"color: #800000; text-decoration-color: #800000; font-weight: bold\">ERROR   </span> <span style=\"color: #008000; text-decoration-color: #008000\">''</span> is not a valid SBML <span style=\"color: #008000; text-decoration-color: #008000\">'SId'</span>.                                                       <a href=\"file://c:\\Users\\yolim\\.pyenv\\pyenv-win\\versions\\3.8.10\\lib\\site-packages\\cobra\\io\\sbml.py\" target=\"_blank\"><span style=\"color: #7f7f7f; text-decoration-color: #7f7f7f\">sbml.py</span></a><span style=\"color: #7f7f7f; text-decoration-color: #7f7f7f\">:</span><a href=\"file://c:\\Users\\yolim\\.pyenv\\pyenv-win\\versions\\3.8.10\\lib\\site-packages\\cobra\\io\\sbml.py#370\" target=\"_blank\"><span style=\"color: #7f7f7f; text-decoration-color: #7f7f7f\">370</span></a>\n",
       "</pre>\n"
      ],
      "text/plain": [
       "\u001b[2;36m[13:17:14]\u001b[0m\u001b[2;36m \u001b[0m\u001b[1;31mERROR   \u001b[0m \u001b[32m''\u001b[0m is not a valid SBML \u001b[32m'SId'\u001b[0m.                                                       \u001b]8;id=559439;file://c:\\Users\\yolim\\.pyenv\\pyenv-win\\versions\\3.8.10\\lib\\site-packages\\cobra\\io\\sbml.py\u001b\\\u001b[2msbml.py\u001b[0m\u001b]8;;\u001b\\\u001b[2m:\u001b[0m\u001b]8;id=370258;file://c:\\Users\\yolim\\.pyenv\\pyenv-win\\versions\\3.8.10\\lib\\site-packages\\cobra\\io\\sbml.py#370\u001b\\\u001b[2m370\u001b[0m\u001b]8;;\u001b\\\n"
      ]
     },
     "metadata": {},
     "output_type": "display_data"
    },
    {
     "name": "stdout",
     "output_type": "stream",
     "text": [
      "\n",
      "Attempting to add diet...\n",
      "Found HighFatLowCarbDiet diet containing 91 metabolites in resources!\n"
     ]
    },
    {
     "data": {
      "text/html": [
       "<pre style=\"white-space:pre;overflow-x:auto;line-height:normal;font-family:Menlo,'DejaVu Sans Mono',consolas,'Courier New',monospace\"><span style=\"color: #7fbfbf; text-decoration-color: #7fbfbf\">[13:17:21] </span><span style=\"color: #800000; text-decoration-color: #800000\">WARNING </span> mc1 is infeasible with provided diet!                                               <a href=\"file://c:\\Users\\yolim\\.pyenv\\pyenv-win\\versions\\3.8.10\\lib\\site-packages\\pymgpipe\\diet.py\" target=\"_blank\"><span style=\"color: #7f7f7f; text-decoration-color: #7f7f7f\">diet.py</span></a><span style=\"color: #7f7f7f; text-decoration-color: #7f7f7f\">:</span><a href=\"file://c:\\Users\\yolim\\.pyenv\\pyenv-win\\versions\\3.8.10\\lib\\site-packages\\pymgpipe\\diet.py#100\" target=\"_blank\"><span style=\"color: #7f7f7f; text-decoration-color: #7f7f7f\">100</span></a>\n",
       "</pre>\n"
      ],
      "text/plain": [
       "\u001b[2;36m[13:17:21]\u001b[0m\u001b[2;36m \u001b[0m\u001b[31mWARNING \u001b[0m mc1 is infeasible with provided diet!                                               \u001b]8;id=989738;file://c:\\Users\\yolim\\.pyenv\\pyenv-win\\versions\\3.8.10\\lib\\site-packages\\pymgpipe\\diet.py\u001b\\\u001b[2mdiet.py\u001b[0m\u001b]8;;\u001b\\\u001b[2m:\u001b[0m\u001b]8;id=535463;file://c:\\Users\\yolim\\.pyenv\\pyenv-win\\versions\\3.8.10\\lib\\site-packages\\pymgpipe\\diet.py#100\u001b\\\u001b[2m100\u001b[0m\u001b]8;;\u001b\\\n"
      ]
     },
     "metadata": {},
     "output_type": "display_data"
    },
    {
     "name": "stdout",
     "output_type": "stream",
     "text": [
      "Computing NMPCs on 1 models...\n",
      "\n",
      "----------------Parameters----------------\n",
      "Parallel- TRUE\n",
      "Threads- 6\n",
      "Solver- GUROBI\n",
      "Diet/fecal compartments- TRUE\n",
      "Exchanges only- TRUE\n",
      "Out file- NMPCS.CSV\n",
      "Force ovewrite- FALSE\n",
      "------------------------------------------\n"
     ]
    },
    {
     "name": "stderr",
     "output_type": "stream",
     "text": [
      "  0%|          | 0/1 [00:00<?, ?it/s]"
     ]
    },
    {
     "data": {
      "text/html": [
       "<pre style=\"white-space:pre;overflow-x:auto;line-height:normal;font-family:Menlo,'DejaVu Sans Mono',consolas,'Courier New',monospace\"><span style=\"color: #7fbfbf; text-decoration-color: #7fbfbf\">           </span><span style=\"color: #800000; text-decoration-color: #800000\">WARNING </span> Cannot solve mc1 model!                                                              <a href=\"file://c:\\Users\\yolim\\.pyenv\\pyenv-win\\versions\\3.8.10\\lib\\site-packages\\pymgpipe\\nmpc.py\" target=\"_blank\"><span style=\"color: #7f7f7f; text-decoration-color: #7f7f7f\">nmpc.py</span></a><span style=\"color: #7f7f7f; text-decoration-color: #7f7f7f\">:</span><a href=\"file://c:\\Users\\yolim\\.pyenv\\pyenv-win\\versions\\3.8.10\\lib\\site-packages\\pymgpipe\\nmpc.py#65\" target=\"_blank\"><span style=\"color: #7f7f7f; text-decoration-color: #7f7f7f\">65</span></a>\n",
       "</pre>\n"
      ],
      "text/plain": [
       "\u001b[2;36m          \u001b[0m\u001b[2;36m \u001b[0m\u001b[31mWARNING \u001b[0m Cannot solve mc1 model!                                                              \u001b]8;id=36337;file://c:\\Users\\yolim\\.pyenv\\pyenv-win\\versions\\3.8.10\\lib\\site-packages\\pymgpipe\\nmpc.py\u001b\\\u001b[2mnmpc.py\u001b[0m\u001b]8;;\u001b\\\u001b[2m:\u001b[0m\u001b]8;id=509240;file://c:\\Users\\yolim\\.pyenv\\pyenv-win\\versions\\3.8.10\\lib\\site-packages\\pymgpipe\\nmpc.py#65\u001b\\\u001b[2m65\u001b[0m\u001b]8;;\u001b\\\n"
      ]
     },
     "metadata": {},
     "output_type": "display_data"
    },
    {
     "name": "stderr",
     "output_type": "stream",
     "text": [
      "100%|██████████| 1/1 [00:00<00:00,  4.35it/s]\n"
     ]
    },
    {
     "data": {
      "text/plain": [
       "res(nmpc=Empty DataFrame\n",
       "Columns: []\n",
       "Index: [], objectives=Empty DataFrame\n",
       "Columns: [communityBiomass]\n",
       "Index: [], fluxes=Empty DataFrame\n",
       "Columns: []\n",
       "Index: [])"
      ]
     },
     "execution_count": 5,
     "metadata": {},
     "output_type": "execute_result"
    }
   ],
   "source": [
    "from pymgpipe import *\n",
    "\n",
    "cobra_model = load_cobra_model('out/models/mc1.xml.gz')\n",
    "add_diet_to_model(cobra_model,'HighFatLowCarbDiet')\n",
    "compute_nmpcs(cobra_model)"
   ]
  }
 ],
 "metadata": {
  "kernelspec": {
   "display_name": "Python 3.8.10 64-bit ('3.8.10')",
   "language": "python",
   "name": "python3"
  },
  "language_info": {
   "codemirror_mode": {
    "name": "ipython",
    "version": 3
   },
   "file_extension": ".py",
   "mimetype": "text/x-python",
   "name": "python",
   "nbconvert_exporter": "python",
   "pygments_lexer": "ipython3",
   "version": "3.8.10"
  },
  "orig_nbformat": 4,
  "vscode": {
   "interpreter": {
    "hash": "ce0f05a52b05dddef91270243e4a7e8f56cb436ce422ef6f4f5d24509d3ae4cc"
   }
  }
 },
 "nbformat": 4,
 "nbformat_minor": 2
}
